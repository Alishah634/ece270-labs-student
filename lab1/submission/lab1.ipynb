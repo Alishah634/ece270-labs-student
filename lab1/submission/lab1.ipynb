{
 "cells": [
  {
   "cell_type": "markdown",
   "metadata": {},
   "source": [
    "Lab Assignment 1\n",
    "====================\n",
    "\n",
    "* * *\n",
    "\n",
    "**Due: Mon, 27 Jan 2025 07:30:00**\n",
    "\n",
    "**Score: \\[36 points total\\] \\[100 penalties total\\] \\[0 penalties graded so far\\]**\n",
    "\n",
    "Complete this **before** you attempt the lab. Read over the datasheets for each integrated circuit (IC) you will be using in early parts of the course and in this lab. You can find them in the References section of the course web site. This prelab will ask you questions about the following ones:\n",
    "\n",
    "*   [74HC00 Quad NAND chip](../../refs/74hc00.pdf)\n",
    "*   [74HC02 Quad NOR chip](../../refs/74hc02.pdf)\n",
    "*   [74HC04 Hex Inverter chip](../../refs/74hc04.pdf)\n",
    "*   [74HC08 Quad AND chip](../../refs/74hc08.pdf)\n",
    "*   [74HC10 Triple 3-input NAND chip](../../refs/74hc10.pdf)\n",
    "*   [74HC32 Quad OR chip](../../refs/74hc32.pdf)\n",
    "*   [74HC86 Quad XOR chip](../../refs/74hc86.pdf)\n",
    "\n",
    "These ICs, or \"chips\", are named with the terms \"Triple\", \"Quad\", and \"Hex\" to indicate that they contain three, four, or six gates, respectively.\n",
    "\n",
    "For this lab, you should read the datasheets specifically to identify the purpose for each one of their _pins_ so that you know how to properly connect them.  \n",
    "\n",
    "* * *\n",
    "\n",
    "Academic Honesty Statement \\[0 ... -100 points\\]\n",
    "------------------------------------------------\n",
    "\n",
    "By typing my name, below, I hereby certify that the work on this lab assignment is my own and that I have not copied the work of any other student (past or present) while completing it. I understand that if I fail to honor this agreement, I will receive a score of ZERO for the lab, a one letter drop in my final course grade, and be subject to possible disciplinary action.\n",
    "\n",
    "Make sure to check that your name matches the one in Brightspace."
   ]
  },
  {
   "cell_type": "code",
   "execution_count": 1,
   "metadata": {},
   "outputs": [],
   "source": [
    "username = \"STUDENTS ANSWER HERE\" \n",
    "name = \"STUDENTS ANSWER HERE\""
   ]
  },
  {
   "cell_type": "markdown",
   "metadata": {},
   "source": [
    "The orientation of a Dual Inline Package (DIP) chip is unambiguously indicated by a notch at one end of the chip. The numbering of the pins is based on the location of that _index_ marker. Consider the diagram on page 2 of the [74HC02 datasheet](../../refs/74hc02.pdf). When the index notch is on the left, pin 1 is just below it. Pins are numbered counter-clockwise from pin 1. The highest numbered pin on an DIP chip is always at the upper right when the index notch is on the left. This is the conventional orientation for a DIP chip, and we will use this format in photographs for the labs. Nevertheless, you should be able to identify pin numbers on a chip if it is upside down or in any other arbitrary orientation.\n",
    "\n",
    "The orientation **every** DIP package and the location of its pin 1 is determined by this index notch. It does not matter how many pins a DIP package has. You can always find pin 1 by this method, and the pins are numbered counter-clockwise.\n",
    "\n",
    "Pick up some of the chips in your lab kit and feel the index notches on them. Notice that the text on each chip is readable when the index notch is to the left. Can you identify the pin numbers? You may also see one or more slight circular depressions in the top of the chip. Those are vent holes for the injection-molding process used to form the plastic package. They are meaningless for a DIP chip. Such circles may be important for other kinds of packages.\n",
    "\n",
    "Integrated circuits are often available in multiple kinds of packages. Each type of package has its own accepted format for identifying its pin numbering. For instance, look at page 9 of the same datasheet for the 74HC02 you were asked to look at. This is a Small Outline 14-pin (SO14) package. The orientation of the chip and the location of pin 1 is determined by a bevel on one edge of the chip. Page 10 shows the format of a Shrink Small-Outline Package (SSOP14) implementation of the chip. Here, a circular depression indicates the orientation of the chip. Page 11 shows a similar Thin-Shrink Small-Outline Package (TSSOP14). Finally, page 12 shows the pin configuration for a Heat-Sink Very-Thin Quad Flat-Pack no-leads 14-pin (HVQFN14) package. This one does not have two rows of pins. Instead, they are arranged around all four sides of the chip. Hmm... which one is pin 1? How do you determine that?\n",
    "\n",
    "When you are reading documentation to identify the pins for a chip in this class, always make sure you are looking at the DIP package. Usually, pin configurations for things like SO, SOP, and TSSOP packages are similar."
   ]
  },
  {
   "cell_type": "markdown",
   "metadata": {},
   "source": [
    "> *Note: Answers for question 1 to 20 should be in this format: \"Pin #\" where the # is the number of the pin you think the answer is.*\n",
    "> Spacing, special characters, and incorrect formatting of the your answer will result in a zero. Be vigilant about this. An example answer is given below:\n",
    "\n",
    "> Example Answer: ``` question_1 = \"Pin 10\" ```"
   ]
  },
  {
   "attachments": {
    "image.png": {
     "image/png": "[encoded data removed]"
    }
   },
   "cell_type": "markdown",
   "metadata": {},
   "source": [
    "(Question 1) [1 point]\n",
    "\n",
    "![image.png](attachment:image.png)\n",
    "\n",
    "\n",
    "For the image above, what pin is the arrow pointing to?\n"
   ]
  },
  {
   "cell_type": "code",
   "execution_count": 2,
   "metadata": {},
   "outputs": [],
   "source": [
    "question_1 = \"STUDENTS ANSWER HERE\""
   ]
  },
  {
   "attachments": {
    "image.png": {
     "image/png": "[encoded data removed]"
    }
   },
   "cell_type": "markdown",
   "metadata": {},
   "source": [
    "(Question 2) [1 point]\n",
    "\n",
    "![image.png](attachment:image.png)\n",
    "\n",
    "For the image above, what pin is the arrow pointing to?\n",
    "\n",
    "Pointing to:\n"
   ]
  },
  {
   "cell_type": "code",
   "execution_count": 3,
   "metadata": {},
   "outputs": [],
   "source": [
    "question_2 = \"STUDENTS ANSWER HERE\""
   ]
  },
  {
   "cell_type": "markdown",
   "metadata": {},
   "source": [
    "(Question 3) [1 point]\n",
    "Look at the 74HC04 datasheet hex inverter in the references folder. This IC contains six inverters. What is the pin number of the IC that should be connected to the positive voltage supply?\n"
   ]
  },
  {
   "cell_type": "code",
   "execution_count": 4,
   "metadata": {},
   "outputs": [],
   "source": [
    "question_3 = \"STUDENTS ANSWER HERE\""
   ]
  },
  {
   "cell_type": "markdown",
   "metadata": {},
   "source": [
    "(Question 4) [1 point]\n",
    "Which pin of the 74HC04 IC should be connected to ground in order to complete the power supply to the chip?\n"
   ]
  },
  {
   "cell_type": "code",
   "execution_count": 5,
   "metadata": {},
   "outputs": [],
   "source": [
    "question_4 = \"STUDENTS ANSWER HERE\""
   ]
  },
  {
   "cell_type": "markdown",
   "metadata": {},
   "source": [
    "(Question 5) [1 point]\n",
    "One of the six gates of the 74HC04 has an input of pin 3. Indicate the pin number used for the output of that gate.\n"
   ]
  },
  {
   "cell_type": "code",
   "execution_count": 6,
   "metadata": {},
   "outputs": [],
   "source": [
    "question_5 = \"STUDENTS ANSWER HERE\""
   ]
  },
  {
   "cell_type": "markdown",
   "metadata": {},
   "source": [
    "(Question 6) [1 point]\n",
    "Look at the datasheet for a 74HC00 quad 2-input NAND gate in the references folder. What is the pin number of the IC that should be connected to the positive voltage supply?\n"
   ]
  },
  {
   "cell_type": "code",
   "execution_count": 7,
   "metadata": {},
   "outputs": [],
   "source": [
    "question_6 = \"STUDENTS ANSWER HERE\""
   ]
  },
  {
   "cell_type": "markdown",
   "metadata": {},
   "source": [
    "(Question 7) [1 point]\n",
    "Which pin of the 74HC00 IC should be connected to ground in order to complete the power supply to the chip?\n"
   ]
  },
  {
   "cell_type": "code",
   "execution_count": 8,
   "metadata": {},
   "outputs": [],
   "source": [
    "question_7 = \"STUDENTS ANSWER HERE\""
   ]
  },
  {
   "cell_type": "markdown",
   "metadata": {},
   "source": [
    "(Question 8) [1 point]\n",
    "One of the four gates of the 74HC00 uses pin 1 as an input. What pin is the other input of the gate connected to?\n"
   ]
  },
  {
   "cell_type": "code",
   "execution_count": 9,
   "metadata": {},
   "outputs": [],
   "source": [
    "question_8 = \"STUDENTS ANSWER HERE\""
   ]
  },
  {
   "cell_type": "markdown",
   "metadata": {},
   "source": [
    "(Question 9) [1 point]\n",
    "One of the four gates of the 74HC00 uses pin 12 as an input. What pin is the output connected to?\n"
   ]
  },
  {
   "cell_type": "code",
   "execution_count": 10,
   "metadata": {},
   "outputs": [],
   "source": [
    "question_9 = \"STUDENTS ANSWER HERE\""
   ]
  },
  {
   "cell_type": "markdown",
   "metadata": {},
   "source": [
    "(Question 10) [1 point]\n",
    "Look at the datasheet for a 74HC02 quad 2-input NOR gate in the references folder. Which pin number of the chip should be connected to the positive voltage supply?\n"
   ]
  },
  {
   "cell_type": "code",
   "execution_count": 11,
   "metadata": {},
   "outputs": [],
   "source": [
    "question_10 = \"STUDENTS ANSWER HERE\""
   ]
  },
  {
   "cell_type": "markdown",
   "metadata": {},
   "source": [
    "(Question 11) [1 point]\n",
    "Which pin of the 74HC02 IC should be connected to ground in order to complete the power supply to the chip?\n"
   ]
  },
  {
   "cell_type": "code",
   "execution_count": 12,
   "metadata": {},
   "outputs": [],
   "source": [
    "question_11 = \"STUDENTS ANSWER HERE\""
   ]
  },
  {
   "cell_type": "markdown",
   "metadata": {},
   "source": [
    "(Question 12) [1 point]\n",
    "One of the four gates of the 74HC02 uses pin 11 as an input. What pin is used as the other input for that gate?\n"
   ]
  },
  {
   "cell_type": "code",
   "execution_count": 13,
   "metadata": {},
   "outputs": [],
   "source": [
    "question_12 = \"STUDENTS ANSWER HERE\""
   ]
  },
  {
   "cell_type": "markdown",
   "metadata": {},
   "source": [
    "(Question 13) [1 point]\n",
    "One of the four gates of the 74HC02 uses pin 5 as an input. What pin is used as the output for that gate?\n"
   ]
  },
  {
   "cell_type": "code",
   "execution_count": 14,
   "metadata": {},
   "outputs": [],
   "source": [
    "question_13 = \"STUDENTS ANSWER HERE\""
   ]
  },
  {
   "cell_type": "markdown",
   "metadata": {},
   "source": [
    "(Question 14) [1 point]\n",
    "Look at the datasheet for a 74HC08 quad 2-input AND gate in the references folder. One of the four gates of the 74HC08 uses pin 10 as an input. What pin is used as the output for that gate?\n"
   ]
  },
  {
   "cell_type": "code",
   "execution_count": 15,
   "metadata": {},
   "outputs": [],
   "source": [
    "question_14 = \"STUDENTS ANSWER HERE\""
   ]
  },
  {
   "cell_type": "markdown",
   "metadata": {},
   "source": [
    "(Question 15) [1 point]\n",
    "Look at the datasheet for a 74HC10 triple 3-input NAND gate in the references folder. Which pin number of the chip should be connected to the positive voltage supply?\n"
   ]
  },
  {
   "cell_type": "code",
   "execution_count": 16,
   "metadata": {},
   "outputs": [],
   "source": [
    "question_15 = \"STUDENTS ANSWER HERE\""
   ]
  },
  {
   "cell_type": "markdown",
   "metadata": {},
   "source": [
    "(Question 16) [1 point]\n",
    "Which pin of the 74HC10 IC should be connected to ground in order to complete the power supply to the chip?\n"
   ]
  },
  {
   "cell_type": "code",
   "execution_count": 17,
   "metadata": {},
   "outputs": [],
   "source": [
    "question_16 = \"STUDENTS ANSWER HERE\""
   ]
  },
  {
   "cell_type": "markdown",
   "metadata": {},
   "source": [
    "(Question 17) [1 point]\n",
    "One of the three gates of the 74HC10 uses pins 2 and 13 as inputs. What pin is used as the third input for that gate?\n"
   ]
  },
  {
   "cell_type": "code",
   "execution_count": 18,
   "metadata": {},
   "outputs": [],
   "source": [
    "question_17 = \"STUDENTS ANSWER HERE\""
   ]
  },
  {
   "cell_type": "markdown",
   "metadata": {},
   "source": [
    "(Question 18) [1 point]\n",
    "One of the three gates of the 74HC10 uses pin 2 as an input. What pin is used as the output for that gate?\n"
   ]
  },
  {
   "cell_type": "code",
   "execution_count": 19,
   "metadata": {},
   "outputs": [],
   "source": [
    "question_18 = \"STUDENTS ANSWER HERE\""
   ]
  },
  {
   "cell_type": "markdown",
   "metadata": {},
   "source": [
    "(Question 19) [1 point]\n",
    "Look at the datasheet for a 74HC32 quad 2-input OR gate in the references folder. One of the four gates of the 74HC32 uses pin 4 as an input. What pin is used as the other input for that gate?\n"
   ]
  },
  {
   "cell_type": "code",
   "execution_count": 20,
   "metadata": {},
   "outputs": [],
   "source": [
    "question_19 = \"STUDENTS ANSWER HERE\""
   ]
  },
  {
   "cell_type": "markdown",
   "metadata": {},
   "source": [
    "(Question 20) [1 point]\n",
    "Look at the datasheet for a 74HC86 quad 2-input XOR gate in the references folder. One of the four gates of the 74HC86 uses pin 12 as an input. What pin is used as the output for that gate?\n"
   ]
  },
  {
   "cell_type": "code",
   "execution_count": 21,
   "metadata": {},
   "outputs": [],
   "source": [
    "question_20 = \"STUDENTS ANSWER HERE\""
   ]
  },
  {
   "cell_type": "markdown",
   "metadata": {},
   "source": [
    "(Question 21) [16 points]\n",
    "Complete the truth table entries for the following devices, for given X and Y input. The table is given after the code cell. "
   ]
  },
  {
   "cell_type": "markdown",
   "metadata": {},
   "source": [
    "*Note: Answers for question 21 are expected to be numbers, not words.*"
   ]
  },
  {
   "cell_type": "code",
   "execution_count": 22,
   "metadata": {},
   "outputs": [
    {
     "name": "stdout",
     "output_type": "stream",
     "text": [
      "Loaded existing answers from student_submission.json.\n",
      "\n"
     ]
    },
    {
     "data": {
      "text/html": [
       "<h4 style='margin: 0; padding: 0;'>Truth Table</h4><h3 style='margin: 0; padding: 0;'>Student needs to fill out these values and hit Save Answers. The student answer is saved to the generated student_submission.json file.</h3><h3 style='margin: 0; padding: 0;'>A students answer is loaded in from this file so do not delete this file, you could be permanently deleting your work.</h3><h3 style='margin: 0; padding: 0;'>Please submit this file on Gradescope</h3>"
      ],
      "text/plain": [
       "<IPython.core.display.HTML object>"
      ]
     },
     "metadata": {},
     "output_type": "display_data"
    },
    {
     "data": {
      "application/vnd.jupyter.widget-view+json": {
       "model_id": "c7aca8d03be84fc19a35fbbf0f1935af",
       "version_major": 2,
       "version_minor": 0
      },
      "text/plain": [
       "GridspecLayout(children=(Label(value='X', layout=Layout(align_items='center', border_bottom='1px solid #ccc', …"
      ]
     },
     "metadata": {},
     "output_type": "display_data"
    },
    {
     "data": {
      "application/vnd.jupyter.widget-view+json": {
       "model_id": "aeef9e2874454348862b4f2757e87d31",
       "version_major": 2,
       "version_minor": 0
      },
      "text/plain": [
       "Button(button_style='success', description='Save Answers', style=ButtonStyle())"
      ]
     },
     "metadata": {},
     "output_type": "display_data"
    }
   ],
   "source": [
    "import ipywidgets as widgets\n",
    "from ipywidgets import GridspecLayout, Button, Layout\n",
    "from IPython.display import display, HTML\n",
    "import json, os\n",
    "\n",
    "########################################\n",
    "# Attempt to load previously saved answers (if any)\n",
    "########################################\n",
    "truth_table = {\n",
    "    \"AND_0_0\": \"\", \"AND_0_1\": \"\", \"AND_1_0\": \"\", \"AND_1_1\": \"\",\n",
    "    \"XOR_0_0\": \"\", \"XOR_0_1\": \"\", \"XOR_1_0\": \"\", \"XOR_1_1\": \"\",\n",
    "    \"NAND_0_0\": \"\", \"NAND_0_1\": \"\", \"NAND_1_0\": \"\", \"NAND_1_1\": \"\",\n",
    "    \"NOR_0_0\": \"\", \"NOR_0_1\": \"\", \"NOR_1_0\": \"\", \"NOR_1_1\": \"\"\n",
    "}\n",
    "\n",
    "if os.path.exists(\"student_submission.json\"):\n",
    "    try:\n",
    "        with open(\"student_submission.json\", \"r\") as f:\n",
    "            loaded = json.load(f)\n",
    "            truth_table.update(loaded)\n",
    "        print(\"Loaded existing answers from student_submission.json.\\n\")\n",
    "    except Exception as e:\n",
    "        print(f\"Could not load student_submission.json: {e}\")\n",
    "else:\n",
    "    print(\"No existing student_submission.json file found. Starting fresh.\\n\")\n",
    "\n",
    "########################################\n",
    "# Helper functions to style each cell\n",
    "########################################\n",
    "def make_label(txt, bold=False, bg=\"#fafafa\", cell_width=\"60px\", cell_height=\"30px\"):\n",
    "    \"\"\"Create a label with a border and centered text, using a custom width and height.\"\"\"\n",
    "    lab = widgets.Label(value=txt)\n",
    "    lab.layout = Layout(\n",
    "        border=\"1px solid #ccc\",\n",
    "        width=cell_width,\n",
    "        height=cell_height,\n",
    "        display=\"flex\",\n",
    "        justify_content=\"center\",   # horizontal center\n",
    "        align_items=\"center\"         # vertical center\n",
    "    )\n",
    "    lab.style.font_weight = \"bold\" if bold else \"normal\"\n",
    "    lab.style.text_align = \"center\"\n",
    "    return lab\n",
    "\n",
    "def make_textbox(key):\n",
    "    \"\"\"Create a text box loaded with the student's previous answer, with centered content.\n",
    "       Set the width to 100px to match header cells.\"\"\"\n",
    "    box = widgets.Text(value=truth_table.get(key, \"\"), placeholder=\"Enter answer here (0/1)\") # either 0/1\")\n",
    "    box.layout = Layout(\n",
    "        border=\"1px solid #ccc\",\n",
    "        width=\"160px\",      # updated width to match headers\n",
    "        height=\"28px\",\n",
    "        display=\"flex\",\n",
    "        justify_content=\"center\",   # center the container contents\n",
    "        align_items=\"center\"         # vertical centering\n",
    "    )\n",
    "    box.style.text_align = \"center\"\n",
    "    return box\n",
    "\n",
    "########################################\n",
    "# Create the textboxes\n",
    "########################################\n",
    "AND_0_0 = make_textbox(\"AND_0_0\")\n",
    "AND_0_1 = make_textbox(\"AND_0_1\")\n",
    "AND_1_0 = make_textbox(\"AND_1_0\")\n",
    "AND_1_1 = make_textbox(\"AND_1_1\")\n",
    "\n",
    "XOR_0_0 = make_textbox(\"XOR_0_0\")\n",
    "XOR_0_1 = make_textbox(\"XOR_0_1\")\n",
    "XOR_1_0 = make_textbox(\"XOR_1_0\")\n",
    "XOR_1_1 = make_textbox(\"XOR_1_1\")\n",
    "\n",
    "NAND_0_0 = make_textbox(\"NAND_0_0\")\n",
    "NAND_0_1 = make_textbox(\"NAND_0_1\")\n",
    "NAND_1_0 = make_textbox(\"NAND_1_0\")\n",
    "NAND_1_1 = make_textbox(\"NAND_1_1\")\n",
    "\n",
    "NOR_0_0 = make_textbox(\"NOR_0_0\")\n",
    "NOR_0_1 = make_textbox(\"NOR_0_1\")\n",
    "NOR_1_0 = make_textbox(\"NOR_1_0\")\n",
    "NOR_1_1 = make_textbox(\"NOR_1_1\")\n",
    "\n",
    "########################################\n",
    "# Build a 5x6 grid that looks like a table\n",
    "########################################\n",
    "# Increase grid width to accommodate wider header cells\n",
    "grid = GridspecLayout(5, 6, width=\"1024px\")\n",
    "\n",
    "# Header row (use wider cells for headers)\n",
    "grid[0,0] = make_label(\"X\", bold=True, bg=\"#eee\", cell_width=\"160px\")\n",
    "grid[0,1] = make_label(\"Y\", bold=True, bg=\"#eee\", cell_width=\"160px\")\n",
    "grid[0,2] = make_label(\"AND 74HC08\", bold=True, bg=\"#eee\", cell_width=\"160px\")\n",
    "grid[0,3] = make_label(\"XOR 74HC86\", bold=True, bg=\"#eee\", cell_width=\"160px\")\n",
    "grid[0,4] = make_label(\"NAND 74HC00\", bold=True, bg=\"#eee\", cell_width=\"160px\")\n",
    "grid[0,5] = make_label(\"NOR 74HC02\", bold=True, bg=\"#eee\", cell_width=\"160px\")\n",
    "\n",
    "# Data rows\n",
    "grid[1,0] = make_label(\"0\", cell_width=\"160px\")\n",
    "grid[1,1] = make_label(\"0\", cell_width=\"160px\")\n",
    "grid[1,2] = AND_0_0\n",
    "grid[1,3] = XOR_0_0\n",
    "grid[1,4] = NAND_0_0\n",
    "grid[1,5] = NOR_0_0\n",
    "\n",
    "grid[2,0] = make_label(\"0\", cell_width=\"160px\")\n",
    "grid[2,1] = make_label(\"1\", cell_width=\"160px\")\n",
    "grid[2,2] = AND_0_1\n",
    "grid[2,3] = XOR_0_1\n",
    "grid[2,4] = NAND_0_1\n",
    "grid[2,5] = NOR_0_1\n",
    "\n",
    "grid[3,0] = make_label(\"1\", cell_width=\"160px\")\n",
    "grid[3,1] = make_label(\"0\", cell_width=\"160px\")\n",
    "grid[3,2] = AND_1_0\n",
    "grid[3,3] = XOR_1_0\n",
    "grid[3,4] = NAND_1_0\n",
    "grid[3,5] = NOR_1_0\n",
    "\n",
    "grid[4,0] = make_label(\"1\", cell_width=\"160px\")\n",
    "grid[4,1] = make_label(\"1\", cell_width=\"160px\")\n",
    "grid[4,2] = AND_1_1\n",
    "grid[4,3] = XOR_1_1\n",
    "grid[4,4] = NAND_1_1\n",
    "grid[4,5] = NOR_1_1\n",
    "\n",
    "########################################\n",
    "# Save button\n",
    "########################################\n",
    "save_button = widgets.Button(description=\"Save Answers\", button_style=\"success\")\n",
    "\n",
    "def on_save_clicked(b):\n",
    "    truth_table[\"AND_0_0\"] = AND_0_0.value\n",
    "    truth_table[\"AND_0_1\"] = AND_0_1.value\n",
    "    truth_table[\"AND_1_0\"] = AND_1_0.value\n",
    "    truth_table[\"AND_1_1\"] = AND_1_1.value\n",
    "    truth_table[\"XOR_0_0\"] = XOR_0_0.value\n",
    "    truth_table[\"XOR_0_1\"] = XOR_0_1.value\n",
    "    truth_table[\"XOR_1_0\"] = XOR_1_0.value\n",
    "    truth_table[\"XOR_1_1\"] = XOR_1_1.value\n",
    "    truth_table[\"NAND_0_0\"] = NAND_0_0.value\n",
    "    truth_table[\"NAND_0_1\"] = NAND_0_1.value\n",
    "    truth_table[\"NAND_1_0\"] = NAND_1_0.value\n",
    "    truth_table[\"NAND_1_1\"] = NAND_1_1.value\n",
    "    truth_table[\"NOR_0_0\"] = NOR_0_0.value\n",
    "    truth_table[\"NOR_0_1\"] = NOR_0_1.value\n",
    "    truth_table[\"NOR_1_0\"] = NOR_1_0.value\n",
    "    truth_table[\"NOR_1_1\"] = NOR_1_1.value\n",
    "\n",
    "    with open(\"student_submission.json\", \"w\") as f:\n",
    "        json.dump(truth_table, f, indent=4)\n",
    "    print(\"Answers saved to student_submission.json!\", truth_table)\n",
    "\n",
    "save_button.on_click(on_save_clicked)\n",
    "\n",
    "########################################\n",
    "# Display the Table + Button\n",
    "########################################\n",
    "display(HTML(\n",
    "    \"<h4 style='margin: 0; padding: 0;'>Truth Table</h4>\"\n",
    "    \"<h3 style='margin: 0; padding: 0;'>Student needs to fill out these values and hit Save Answers. The student answer is saved to the generated student_submission.json file.</h3>\"\n",
    "    \"<h3 style='margin: 0; padding: 0;'>A students answer is loaded in from this file so do not delete this file, you could be permanently deleting your work.</h3>\"\n",
    "    \"<h3 style='margin: 0; padding: 0;'>Please submit this file on Gradescope</h3>\"\n",
    "))\n",
    "display(grid)\n",
    "display(save_button)\n"
   ]
  },
  {
   "cell_type": "code",
   "execution_count": 23,
   "metadata": {},
   "outputs": [
    {
     "name": "stdout",
     "output_type": "stream",
     "text": [
      "{'username': 'STUDENTS ANSWER HERE', 'name': 'STUDENTS ANSWER HERE', 'question_1': 'STUDENTS ANSWER HERE', 'question_2': 'STUDENTS ANSWER HERE', 'question_3': 'STUDENTS ANSWER HERE', 'question_4': 'STUDENTS ANSWER HERE', 'question_5': 'STUDENTS ANSWER HERE', 'question_6': 'STUDENTS ANSWER HERE', 'question_7': 'STUDENTS ANSWER HERE', 'question_8': 'STUDENTS ANSWER HERE', 'question_9': 'STUDENTS ANSWER HERE', 'question_10': 'STUDENTS ANSWER HERE', 'question_11': 'STUDENTS ANSWER HERE', 'question_12': 'STUDENTS ANSWER HERE', 'question_13': 'STUDENTS ANSWER HERE', 'question_14': 'STUDENTS ANSWER HERE', 'question_15': 'STUDENTS ANSWER HERE', 'question_16': 'STUDENTS ANSWER HERE', 'question_17': 'STUDENTS ANSWER HERE', 'question_18': 'STUDENTS ANSWER HERE', 'question_19': 'STUDENTS ANSWER HERE', 'question_20': 'STUDENTS ANSWER HERE', 'AND_0_0': '1', 'AND_0_1': '1', 'AND_1_0': '1', 'AND_1_1': '1', 'XOR_0_0': '1', 'XOR_0_1': '1', 'XOR_1_0': '1', 'XOR_1_1': '1', 'NAND_0_0': '1', 'NAND_0_1': '1', 'NAND_1_0': '1', 'NAND_1_1': '1', 'NOR_0_0': '1', 'NOR_0_1': '1', 'NOR_1_0': '1', 'NOR_1_1': '1'}\n"
     ]
    }
   ],
   "source": [
    "import json\n",
    "\n",
    "variables = [\n",
    "    username, \n",
    "    name, \n",
    "    question_1, \n",
    "    question_2, \n",
    "    question_3, \n",
    "    question_4, \n",
    "    question_5, \n",
    "    question_6, \n",
    "    question_7, \n",
    "    question_8, \n",
    "    question_9, \n",
    "    question_10, \n",
    "    question_11, \n",
    "    question_12, \n",
    "    question_13, \n",
    "    question_14, \n",
    "    question_15, \n",
    "    question_16, \n",
    "    question_17, \n",
    "    question_18, \n",
    "    question_19, \n",
    "    question_20, \n",
    "    truth_table[\"AND_0_0\"], \n",
    "    truth_table[\"AND_0_1\"], \n",
    "    truth_table[\"AND_1_0\"], \n",
    "    truth_table[\"AND_1_1\"], \n",
    "    truth_table[\"XOR_0_0\"], \n",
    "    truth_table[\"XOR_0_1\"], \n",
    "    truth_table[\"XOR_1_0\"], \n",
    "    truth_table[\"XOR_1_1\"], \n",
    "    truth_table[\"NAND_0_0\"], \n",
    "    truth_table[\"NAND_0_1\"], \n",
    "    truth_table[\"NAND_1_0\"], \n",
    "    truth_table[\"NAND_1_1\"], \n",
    "    truth_table[\"NOR_0_0\"], \n",
    "    truth_table[\"NOR_0_1\"], \n",
    "    truth_table[\"NOR_1_0\"], \n",
    "    truth_table[\"NOR_1_1\"]\n",
    "]\n",
    "variables_dict = {var_name: var_value for var_name, var_value in zip([\n",
    "    'username', 'name', 'question_1', 'question_2', 'question_3', 'question_4', \n",
    "    'question_5', 'question_6', 'question_7', 'question_8', 'question_9', \n",
    "    'question_10', 'question_11', 'question_12', 'question_13', 'question_14', \n",
    "    'question_15', 'question_16', 'question_17', 'question_18', 'question_19', \n",
    "    'question_20', 'AND_0_0', 'AND_0_1', 'AND_1_0', 'AND_1_1', 'XOR_0_0', \n",
    "    'XOR_0_1', 'XOR_1_0', 'XOR_1_1', 'NAND_0_0', 'NAND_0_1', 'NAND_1_0', \n",
    "    'NAND_1_1', 'NOR_0_0', 'NOR_0_1', 'NOR_1_0', 'NOR_1_1'\n",
    "], variables)}\n",
    "\n",
    "with open('student_submission.json', 'w') as f:\n",
    "    json.dump(variables_dict, f, indent=4)\n",
    "    \n",
    "print(variables_dict)"
   ]
  }
 ],
 "metadata": {
  "kernelspec": {
   "display_name": "Python 3",
   "language": "python",
   "name": "python3"
  },
  "language_info": {
   "codemirror_mode": {
    "name": "ipython",
    "version": 3
   },
   "file_extension": ".py",
   "mimetype": "text/x-python",
   "name": "python",
   "nbconvert_exporter": "python",
   "pygments_lexer": "ipython3",
   "version": "3.10.12"
  }
 },
 "nbformat": 4,
 "nbformat_minor": 2
}
